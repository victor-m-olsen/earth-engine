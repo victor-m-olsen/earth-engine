{
  "nbformat": 4,
  "nbformat_minor": 0,
  "metadata": {
    "colab": {
      "name": "Cropland Area Estimate",
      "provenance": [],
      "authorship_tag": "ABX9TyNi15xRsOZQ+CkCFM2lYRZI",
      "include_colab_link": true
    },
    "kernelspec": {
      "name": "python3",
      "display_name": "Python 3"
    },
    "language_info": {
      "name": "python"
    }
  },
  "cells": [
    {
      "cell_type": "markdown",
      "metadata": {
        "id": "view-in-github",
        "colab_type": "text"
      },
      "source": [
        "<a href=\"https://colab.research.google.com/github/victor-m-olsen/earth-engine/blob/main/Cropland_Area_Estimates.ipynb\" target=\"_parent\"><img src=\"https://colab.research.google.com/assets/colab-badge.svg\" alt=\"Open In Colab\"/></a>"
      ]
    },
    {
      "cell_type": "code",
      "execution_count": 7,
      "metadata": {
        "id": "zGcUW4HgFJzo"
      },
      "outputs": [],
      "source": [
        "import ee\n",
        "import pandas as pd"
      ]
    },
    {
      "cell_type": "code",
      "source": [
        "ee.Authenticate()\n",
        "ee.Initialize()"
      ],
      "metadata": {
        "colab": {
          "base_uri": "https://localhost:8080/"
        },
        "id": "lyQIEUhnFW6e",
        "outputId": "4d8af956-7b0d-4297-8a15-8f6c1147fb81"
      },
      "execution_count": 2,
      "outputs": [
        {
          "output_type": "stream",
          "name": "stdout",
          "text": [
            "To authorize access needed by Earth Engine, open the following URL in a web browser and follow the instructions. If the web browser does not start automatically, please manually browse the URL below.\n",
            "\n",
            "    https://accounts.google.com/o/oauth2/auth?client_id=517222506229-vsmmajv00ul0bs7p89v5m89qs8eb9359.apps.googleusercontent.com&scope=https%3A%2F%2Fwww.googleapis.com%2Fauth%2Fearthengine+https%3A%2F%2Fwww.googleapis.com%2Fauth%2Fdevstorage.full_control&redirect_uri=urn%3Aietf%3Awg%3Aoauth%3A2.0%3Aoob&response_type=code&code_challenge=PpXMFbvh8RGQDGe1MF1fy9QQ7cU2G0Ql6zVRA-4K3UQ&code_challenge_method=S256\n",
            "\n",
            "The authorization workflow will generate a code, which you should paste in the box below. \n",
            "Enter verification code: 4/1AX4XfWiKPBopMszWKv3AQskLFDPD7R9ZATbyg0UCdRGBISDJbvMmpwJdwOA\n",
            "\n",
            "Successfully saved authorization token.\n"
          ]
        }
      ]
    },
    {
      "cell_type": "code",
      "source": [
        "crop17 = ee.Image(\"users/kpalmkron/Agriculture_Syria_2016_2017\");\n",
        "crop18 = ee.Image(\"users/kpalmkron/Agriculture_Syria_2017_2018\");\n",
        "crop19 = ee.Image(\"users/kpalmkron/Agriculture_Syria_2018_2019\");\n",
        "crop20 = ee.Image(\"users/kpalmkron/Agriculture_Syria_2019_2020\");\n",
        "crop21 = ee.Image(\"users/kpalmkron/Agriculture_Syria_2020_2021\");"
      ],
      "metadata": {
        "id": "Jh_2eeQrFh1X"
      },
      "execution_count": 3,
      "outputs": []
    },
    {
      "cell_type": "code",
      "source": [
        "admin = ee.FeatureCollection(\"users/victormackenhauer/Syria/syria_admin3\");"
      ],
      "metadata": {
        "id": "IfHyg4fyFrxG"
      },
      "execution_count": 8,
      "outputs": []
    },
    {
      "cell_type": "code",
      "source": [
        "# Function to extract cropland area per admin unit\n",
        "\n",
        "def extractor(adm, lc):\n",
        "  \n",
        "  # Remove non crop pixels\n",
        "  only_crop = lc.gt(0)\n",
        "  \n",
        "  # Reduce to cropland pixel count per admin unit\n",
        "  cropland_area_px = only_crop.reduceRegions({\n",
        "                      collection: adm,\n",
        "                      reducer: ee.Reducer.sum(), \n",
        "                      scale: 10})\n",
        "  \n",
        "  # Converting pixel sum to ha\n",
        "  cropland_area_ha = cropland_area_px.map(function(feature) {\n",
        "      return feature.set('cropland_ha', ee.Number(feature.get('sum')).multiply(0.01))\n",
        "  })\n",
        "\n",
        "  return cropland_area_ha\n"
      ],
      "metadata": {
        "colab": {
          "base_uri": "https://localhost:8080/",
          "height": 135
        },
        "id": "TSIyEZ_rGvW8",
        "outputId": "19fa0b35-5c14-4114-c802-86401705647c"
      },
      "execution_count": 9,
      "outputs": [
        {
          "output_type": "error",
          "ename": "SyntaxError",
          "evalue": "ignored",
          "traceback": [
            "\u001b[0;36m  File \u001b[0;32m\"<ipython-input-9-16e4d8072ef4>\"\u001b[0;36m, line \u001b[0;32m15\u001b[0m\n\u001b[0;31m    cropland_area_ha = cropland_area_px.map(function(feature) {\u001b[0m\n\u001b[0m                                                              ^\u001b[0m\n\u001b[0;31mSyntaxError\u001b[0m\u001b[0;31m:\u001b[0m invalid syntax\n"
          ]
        }
      ]
    }
  ]
}